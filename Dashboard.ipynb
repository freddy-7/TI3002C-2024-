{
  "nbformat": 4,
  "nbformat_minor": 0,
  "metadata": {
    "colab": {
      "provenance": [],
      "authorship_tag": "ABX9TyNTeNXelnUHEi2lQ5/AwYfU",
      "include_colab_link": true
    },
    "kernelspec": {
      "name": "python3",
      "display_name": "Python 3"
    },
    "language_info": {
      "name": "python"
    }
  },
  "cells": [
    {
      "cell_type": "markdown",
      "metadata": {
        "id": "view-in-github",
        "colab_type": "text"
      },
      "source": [
        "<a href=\"https://colab.research.google.com/github/freddy-7/TI3002C-2024-/blob/main/Dashboard.ipynb\" target=\"_parent\"><img src=\"https://colab.research.google.com/assets/colab-badge.svg\" alt=\"Open In Colab\"/></a>"
      ]
    },
    {
      "cell_type": "code",
      "execution_count": null,
      "metadata": {
        "id": "OsDcs3Aptzfg"
      },
      "outputs": [],
      "source": [
        "#Instalamos la libreria de STREAMLIT\n",
        "%pip install streamlit"
      ]
    },
    {
      "cell_type": "code",
      "source": [
        "#Instalamos la libreria de PLOTLY\n",
        "%pip install plotly"
      ],
      "metadata": {
        "id": "e2CyBAsmuS5O"
      },
      "execution_count": null,
      "outputs": []
    },
    {
      "cell_type": "code",
      "source": [
        "#Instalamos librería para análisis de variables categóricas\n",
        "%pip install funpymodeling"
      ],
      "metadata": {
        "id": "iFeSh3XCucfb"
      },
      "execution_count": null,
      "outputs": []
    },
    {
      "cell_type": "code",
      "source": [
        "#Instalamos el tunnel local (node.js)\n",
        "#Para instalar npm en visual studio\n",
        "#1.Desde Google escribir node.js\n",
        "#2. Instalar la versión más recomendada\n",
        "!npm install localtunnel"
      ],
      "metadata": {
        "colab": {
          "base_uri": "https://localhost:8080/"
        },
        "id": "x7ieHsHTvBRU",
        "outputId": "1022cd70-de2a-45a4-c899-7921a40c6b06"
      },
      "execution_count": 4,
      "outputs": [
        {
          "output_type": "stream",
          "name": "stdout",
          "text": [
            "\u001b[K\u001b[?25h\n",
            "added 22 packages, and audited 23 packages in 1s\n",
            "\n",
            "3 packages are looking for funding\n",
            "  run `npm fund` for details\n",
            "\n",
            "2 \u001b[33m\u001b[1mmoderate\u001b[22m\u001b[39m severity vulnerabilities\n",
            "\n",
            "To address all issues, run:\n",
            "  npm audit fix\n",
            "\n",
            "Run `npm audit` for details.\n"
          ]
        }
      ]
    },
    {
      "cell_type": "code",
      "source": [
        "#Cargar archivo csv desde equipo\n",
        "from google.colab import files\n",
        "files.upload()"
      ],
      "metadata": {
        "id": "t5vVafHzwH7t"
      },
      "execution_count": null,
      "outputs": []
    },
    {
      "cell_type": "code",
      "source": [
        "%%writefile app.py\n",
        "#Creamos el archivo de la APP en el interprete principal (Phyton)\n",
        "\n",
        "#############################IMPLEMENTACIÓN DE DASHBOARD######################\n",
        "\n",
        "#Verificamos que todas las librerias se puedan importar\n",
        "#Importamos librerias\n",
        "import streamlit as st\n",
        "import plotly.express as px\n",
        "import pandas as pd\n",
        "import numpy as np\n",
        "from funpymodeling.exploratory import freq_tbl\n",
        "\n",
        "#################################################################\n",
        "\n",
        "#Definimos la instancia de streamlit\n",
        "@st.cache_resource\n",
        "\n",
        "#################################################################\n",
        "\n",
        "#Creamos la función de carga de datos\n",
        "def load_data():\n",
        "    #Lectura del archivo csv sin indice\n",
        "    df1=pd.read_csv(\"titanic.csv\")\n",
        "    #Carga desde un archivo csv con indice\n",
        "    df2= pd.read_csv(\"titanic.csv\", index_col= 'Name')\n",
        "\n",
        "#################################################################\n",
        "\n",
        "   #Etapa de procesamiento de Datos\n",
        "\n",
        "    #ANÁLISIS UNIVARIADO DE FRECUENCIAS\n",
        "    #Obtengo un análisis univariado de una variable categórica en específico\n",
        "    table= freq_tbl(df1['Sex'])\n",
        "    #Obtengo un filtro de los valores más reelevantes de la variables categórica seleccionada\n",
        "    Filtro= table[table['frequency']>1]\n",
        "    #Ajusto el indice de mi dataframe\n",
        "    Filtro_index1= Filtro.set_index('Sex')\n",
        "\n",
        "    #Selecciono las columnas tipo numericas del dataframe Filtro_index1\n",
        "    numeric_df1 = Filtro_index1.select_dtypes(['float','int'])  #Devuelve Columnas\n",
        "    numeric_cols1= numeric_df1.columns                          #Devuelve lista de Columnas\n",
        "\n",
        "    #Selecciono las columnas tipo numericas del dataframe df2\n",
        "    numeric_df2 = df2.select_dtypes(['float','int'])  #Devuelve Columnas\n",
        "    numeric_cols2= numeric_df2.columns                 #Devuelve lista de Columnas\n",
        "\n",
        "    return Filtro_index1, df2, numeric_df1, numeric_cols1, numeric_df2, numeric_cols2\n",
        "\n",
        "    #################################################################\n",
        "\n",
        "#Cargo los datos obtenidos de la función \"load_data\"\n",
        "Filtro_index1, df2, numeric_df1, numeric_cols1, numeric_df2, numeric_cols2 = load_data()\n",
        "\n",
        "#1. CREACIÓN DE LA SIDEBAR\n",
        "#Generamos los encabezados para la barra lateral (sidebar)\n",
        "st.sidebar.title(\"DASHBOARD\")\n",
        "st.sidebar.header(\"Sidebar\")\n",
        "st.sidebar.subheader(\"Panel de selección\")\n"
      ],
      "metadata": {
        "colab": {
          "base_uri": "https://localhost:8080/"
        },
        "id": "uX-Ay5mfwVTt",
        "outputId": "e3d1c302-ccd1-4db3-a11b-5cd4d34239f9"
      },
      "execution_count": 1,
      "outputs": [
        {
          "output_type": "stream",
          "name": "stdout",
          "text": [
            "Overwriting app.py\n"
          ]
        }
      ]
    },
    {
      "cell_type": "code",
      "source": [
        "!streamlit run app.py & npx localtunnel --port 8501 & curl ipv4.icanhazip.com"
      ],
      "metadata": {
        "colab": {
          "base_uri": "https://localhost:8080/"
        },
        "id": "Fe-AxS3S0e8J",
        "outputId": "1d8568c6-4eb0-4041-9de0-07f6c18ab421"
      },
      "execution_count": null,
      "outputs": [
        {
          "output_type": "stream",
          "name": "stdout",
          "text": [
            "35.201.152.201\n",
            "\n",
            "Collecting usage statistics. To deactivate, set browser.gatherUsageStats to false.\n",
            "\u001b[0m\n",
            "\u001b[0m\n",
            "\u001b[34m\u001b[1m  You can now view your Streamlit app in your browser.\u001b[0m\n",
            "\u001b[0m\n",
            "\u001b[34m  Local URL: \u001b[0m\u001b[1mhttp://localhost:8501\u001b[0m\n",
            "\u001b[34m  Network URL: \u001b[0m\u001b[1mhttp://172.28.0.12:8501\u001b[0m\n",
            "\u001b[34m  External URL: \u001b[0m\u001b[1mhttp://35.201.152.201:8501\u001b[0m\n",
            "\u001b[0m\n",
            "your url is: https://twenty-parrots-ring.loca.lt\n"
          ]
        }
      ]
    }
  ]
}