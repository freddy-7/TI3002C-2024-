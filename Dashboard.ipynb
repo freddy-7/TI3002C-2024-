{
  "nbformat": 4,
  "nbformat_minor": 0,
  "metadata": {
    "colab": {
      "provenance": [],
      "authorship_tag": "ABX9TyPn9K3NvbHs72nkRMGQRTgp",
      "include_colab_link": true
    },
    "kernelspec": {
      "name": "python3",
      "display_name": "Python 3"
    },
    "language_info": {
      "name": "python"
    }
  },
  "cells": [
    {
      "cell_type": "markdown",
      "metadata": {
        "id": "view-in-github",
        "colab_type": "text"
      },
      "source": [
        "<a href=\"https://colab.research.google.com/github/freddy-7/TI3002C-2024-/blob/main/Dashboard.ipynb\" target=\"_parent\"><img src=\"https://colab.research.google.com/assets/colab-badge.svg\" alt=\"Open In Colab\"/></a>"
      ]
    },
    {
      "cell_type": "code",
      "execution_count": null,
      "metadata": {
        "id": "HVJ7auo9yu33"
      },
      "outputs": [],
      "source": [
        "#Instalamos la libreria de STREAMLIT\n",
        "%pip install streamlit"
      ]
    },
    {
      "cell_type": "code",
      "source": [
        "#Instalamos la libreria de PLOTLY\n",
        "%pip install plotly"
      ],
      "metadata": {
        "id": "9COp_Yyg3HiQ"
      },
      "execution_count": null,
      "outputs": []
    },
    {
      "cell_type": "code",
      "source": [
        "#Instalamos librería para análisis de variables categóricas\n",
        "%pip install funpymodeling"
      ],
      "metadata": {
        "id": "jn640NmF3M7J"
      },
      "execution_count": null,
      "outputs": []
    },
    {
      "cell_type": "code",
      "source": [
        "#Instalamos el tunnel local (node.js)\n",
        "#Para instalar npm en visual studio\n",
        "#1.Desde Google escribir node.js\n",
        "#2. Instalar la versión más recomendada\n",
        "!npm install localtunnel"
      ],
      "metadata": {
        "id": "P4rxAIz-3XZz"
      },
      "execution_count": null,
      "outputs": []
    },
    {
      "cell_type": "code",
      "source": [
        "#Cargar archivo csv desde equipo\n",
        "from google.colab import files\n",
        "files.upload()"
      ],
      "metadata": {
        "id": "CgnDqERy4Hwr"
      },
      "execution_count": null,
      "outputs": []
    },
    {
      "cell_type": "code",
      "source": [
        "%%writefile app.py\n",
        "#Creamos el archivo de la APP en el interprete principal (Phyton)\n",
        "\n",
        "#############################IMPLEMENTACIÓN DE DASHBOARD################################\n",
        "\n",
        "#Verificamos que todas las librerias se puedan importar\n",
        "#Importamos librerias\n",
        "import streamlit as st\n",
        "import plotly.express as px\n",
        "import pandas as pd\n",
        "import numpy as np\n",
        "from funpymodeling.exploratory import freq_tbl\n",
        "\n",
        "#################################################################\n",
        "\n",
        "#Definimos la instancia de streamlit\n",
        "@st.cache_resource\n",
        "\n",
        "#################################################################\n",
        "\n",
        "#Creamos la función de carga de datos\n",
        "def load_data():\n",
        "    #Lectura del archivo csv sin indice\n",
        "    df1=pd.read_csv(\"titanic.csv\")\n",
        "    #Carga desde un archivo csv con indice\n",
        "    df2= pd.read_csv(\"titanic.csv\", index_col= 'Name')\n",
        "\n",
        "#################################################################\n",
        "\n",
        "   #Etapa de procesamiento de Datos\n",
        "\n",
        "    #ANÁLISIS UNIVARIADO DE FRECUENCIAS\n",
        "    #Obtengo un análisis univariado de una variable categórica en específico\n",
        "    table= freq_tbl(df1['Sex'])\n",
        "    #Obtengo un filtro de los valores más reelevantes de la variables categórica seleccionada\n",
        "    Filtro= table[table['frequency']>1]\n",
        "    #Ajusto el indice de mi dataframe\n",
        "    Filtro_index1= Filtro.set_index('Sex')\n",
        "\n",
        "    #Selecciono las columnas tipo numericas del dataframe Filtro_index1\n",
        "    numeric_df1 = Filtro_index1.select_dtypes(['float','int'])  #Devuelve Columnas\n",
        "    numeric_cols1= numeric_df1.columns                          #Devuelve lista de Columnas\n",
        "\n",
        "    #Selecciono las columnas tipo numericas del dataframe df2\n",
        "    numeric_df2 = df2.select_dtypes(['float','int'])  #Devuelve Columnas\n",
        "    numeric_cols2= numeric_df2.columns                 #Devuelve lista de Columnas\n",
        "\n",
        "\n",
        "    return Filtro_index1, df2, numeric_df1, numeric_cols1, numeric_df2, numeric_cols2\n",
        "\n",
        "    #Test 1 (streamlit run app.py)\n",
        "\n",
        "#################################################################\n",
        "\n",
        "#Cargo los datos obtenidos de la función \"load_data\"\n",
        "Filtro_index1, df2, numeric_df1, numeric_cols1, numeric_df2, numeric_cols2 = load_data()\n",
        "\n",
        "######################CREACIÓN DEL DASHBOARD################################\n",
        "\n",
        "#1. CREACIÓN DE LA SIDEBAR\n",
        "#Generamos los encabezados para la barra lateral (sidebar)\n",
        "st.sidebar.title(\"DASHBOARD\")\n",
        "st.sidebar.header(\"Sidebar\")\n",
        "st.sidebar.subheader(\"Panel de selección\")\n",
        "\n",
        "#Test 2 (streamlit run app.py)\n",
        "\n",
        "#################################################################\n",
        "\n",
        "#2. CREACIÓN DE LOS FRAMES\n",
        "#Generamos los Frames que utilizaremos en el diseño\n",
        "#Widget 1: Selectbox\n",
        "#Menu desplegable de opciones de los Frames seleccionados\n",
        "Frames= st.selectbox(label= \"Frames\", options= [\"Frame 1\", \"Frame 2\", \"Frame 3\", \"Frame 4\"])\n",
        "\n",
        "#Test 3 (streamlit run app.py)\n",
        "\n",
        "#################################################################\n",
        "\n",
        "#3. CONTENIDO DEL FRAME 1\n",
        "if Frames == \"Frame 1\":\n",
        "    #Generamos los encabezados para el dashboard\n",
        "    st.title(\"TITANIC\")\n",
        "    st.header(\"Frame Principal\")\n",
        "    st.subheader(\"Line Plot\")\n",
        "\n",
        "    #Test 4 (streamlit run app.py)\n",
        "\n",
        "    #Widget 2: Checkbox\n",
        "    #Generamos un cuadro de selección (Checkbox) en una barra lateral (sidebar) para mostrar dataset\n",
        "    check_box = st.sidebar.checkbox(label= \"Mostrar Dataset\")\n",
        "    #Condicional para que aparezca el dataframe\n",
        "    if check_box:\n",
        "        #Mostramos el dataset\n",
        "        st.write(Filtro_index1)\n",
        "        st.write(df2)\n",
        "\n",
        "        #Test 5 (streamlit run app.py)\n",
        "\n",
        "    #Widget 3: Multiselect box\n",
        "    #Generamos un cuadro de multi-selección (Y) para seleccionar variables a graficar\n",
        "    Vars_num_selected= st.sidebar.multiselect(label=\"Variables graficadas\", options= numeric_cols2)\n",
        "\n",
        "    #Test 6 (streamlit run app.py)\n",
        "\n",
        "    #GRAPH 1: LINEPLOT\n",
        "    #Despliegue de un line plot, definiendo las variables \"X categorias\" y \"Y numéricas\"\n",
        "    figure1 = px.line(data_frame=df2, x=df2.index,\n",
        "                  y= Vars_num_selected, title= str('Features of Passengers by name'),\n",
        "                  width=1600, height=600)\n",
        "    #Mostramos el lineplot\n",
        "    st.plotly_chart(figure1)\n",
        "\n",
        "    #Test 7 (streamlit run app.py)\n",
        "\n",
        "\n",
        "#################################################################\n",
        "\n",
        "    #4. CONTENIDO DEL FRAME 2\n",
        "if Frames == \"Frame 2\":\n",
        "    #Generamos los encabezados para el dashboard\n",
        "    st.title(\"TITANIC\")\n",
        "    st.header(\"Frame Secundario\")\n",
        "    st.subheader(\"Bar Plot\")\n",
        "\n",
        "    #Test 8 (streamlit run app.py)\n",
        "\n",
        "    #Menu desplegable de opciones de las variables numéricas graficadas\n",
        "    Vars_Num= st.selectbox(label= \"Variables\", options= [\"frequency\", \"percentage\", \"cumulative_perc\"])\n",
        "    if Vars_Num == \"frequency\":\n",
        "        numeric_cols1[0]\n",
        "    if Vars_Num == \"percentage\":\n",
        "        numeric_cols1[1]\n",
        "    if Vars_Num == \"cumulative_perc\":\n",
        "        numeric_cols1[2]\n",
        "\n",
        "    #Test 9 (streamlit run app.py)\n",
        "\n",
        "    #GRAPH 2: BARPLOT\n",
        "    #Despliegue de un bar plot, definiendo las variables \"X categorias\" y \"Y numéricas\"\n",
        "    figure2 = px.bar(data_frame=Filtro_index1, x=Filtro_index1.index,\n",
        "                  y= Vars_Num, title= str('Análisis Univariado'))\n",
        "    figure2.update_xaxes(automargin=True)\n",
        "    figure2.update_yaxes(automargin=True)\n",
        "\n",
        "    #Test 10 (streamlit run app.py)\n",
        "\n",
        "    #Widget 4: Button\n",
        "    #Generamos un button (Button) en la barra lateral (sidebar) para mostrar las variables tipo texto\n",
        "    Button = st.sidebar.button(label= \"Mostrar grafica tipo BARPLOT\")\n",
        "    #Condicional para que aparezca el dataframe\n",
        "    if Button:\n",
        "        #Mostramos el barplot\n",
        "        st.plotly_chart(figure2)\n",
        "###################################################################################3\n",
        "\n",
        "    #5. CONTENIDO DEL FRAME 3\n",
        "if Frames == \"Frame 3\":\n",
        "    #Generamos los encabezados para el dashboard\n",
        "    st.title(\"TITANIC\")\n",
        "    st.header(\"Frame Secundario\")\n",
        "    st.subheader(\"Scatter Plot\")\n",
        "\n",
        "    #Generamos dos cuadros de multi-selección (Y) para seleccionar variables a graficar\n",
        "    x_selected= st.sidebar.selectbox(label= \"x\", options= numeric_cols2)\n",
        "    y_selected= st.sidebar.selectbox(label= \"y\", options= numeric_cols2)\n",
        "\n",
        "    #Test 13 (streamlit run app.py)\n",
        "\n",
        "    #GRAPH 3: SCATTERPLOT\n",
        "    #Despliegue de un bar plot, definiendo las variables \"X categorias\" y \"Y numéricas\"\n",
        "    figure3 = px.scatter(data_frame=numeric_df2, x=x_selected, y= y_selected,\n",
        "                     title= 'Dispersiones')\n",
        "    st.plotly_chart(figure3)\n",
        "\n",
        "#####################################################################################3\n",
        "\n",
        "    #6. CONTENIDO DEL FRAME 4\n",
        "if Frames == \"Frame 4\":\n",
        "    #Generamos los encabezados para el dashboard\n",
        "    st.title(\"TITANIC\")\n",
        "    st.header(\"Frame Secundario\")\n",
        "    st.subheader(\"Pie Plot\")\n",
        "\n",
        "    #Test 15 (streamlit run app.py)\n",
        "\n",
        "    #Menu desplegable de opciones de la variables seleccionadas\n",
        "    Variable_num= st.sidebar.selectbox(label= \"Variable Numérica\", options= numeric_cols2)\n",
        "\n",
        "    #Test 16 (streamlit run app.py)\n",
        "\n",
        "    #GRAPH 4: PIEPLOT\n",
        "    #Despliegue de un pie plot, definiendo las variables \"X categorias\" y \"Y numéricas\"\n",
        "    figure4 = px.pie(data_frame=df2, names=df2.index,\n",
        "                  values= Variable_num, title= str('Features Passengers'),\n",
        "                  width=1600, height=600)\n",
        "    st.plotly_chart(figure4)\n"
      ],
      "metadata": {
        "colab": {
          "base_uri": "https://localhost:8080/"
        },
        "id": "8ndtDYSE4Mx7",
        "outputId": "90f3f988-e1b2-4793-877f-e71382047cf6"
      },
      "execution_count": 17,
      "outputs": [
        {
          "output_type": "stream",
          "name": "stdout",
          "text": [
            "Overwriting app.py\n"
          ]
        }
      ]
    },
    {
      "cell_type": "code",
      "source": [
        "!streamlit run app.py & npx localtunnel --port 8501 & curl ipv4.icanhazip.com"
      ],
      "metadata": {
        "colab": {
          "base_uri": "https://localhost:8080/"
        },
        "id": "uA4B4rxr5Vs7",
        "outputId": "c1e8d508-0433-4197-a2ef-9c114b2bc876"
      },
      "execution_count": null,
      "outputs": [
        {
          "output_type": "stream",
          "name": "stdout",
          "text": [
            "104.197.137.120\n",
            "\n",
            "Collecting usage statistics. To deactivate, set browser.gatherUsageStats to false.\n",
            "\u001b[0m\n",
            "\u001b[0m\n",
            "\u001b[34m\u001b[1m  You can now view your Streamlit app in your browser.\u001b[0m\n",
            "\u001b[0m\n",
            "\u001b[34m  Local URL: \u001b[0m\u001b[1mhttp://localhost:8501\u001b[0m\n",
            "\u001b[34m  Network URL: \u001b[0m\u001b[1mhttp://172.28.0.12:8501\u001b[0m\n",
            "\u001b[34m  External URL: \u001b[0m\u001b[1mhttp://104.197.137.120:8501\u001b[0m\n",
            "\u001b[0m\n",
            "your url is: https://cuddly-oranges-juggle.loca.lt\n"
          ]
        }
      ]
    }
  ]
}