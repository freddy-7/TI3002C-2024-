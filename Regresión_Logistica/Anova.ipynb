{
  "nbformat": 4,
  "nbformat_minor": 0,
  "metadata": {
    "colab": {
      "provenance": [],
      "authorship_tag": "ABX9TyNwNslyITBSScd7ysX+MTu4",
      "include_colab_link": true
    },
    "kernelspec": {
      "name": "python3",
      "display_name": "Python 3"
    },
    "language_info": {
      "name": "python"
    }
  },
  "cells": [
    {
      "cell_type": "markdown",
      "metadata": {
        "id": "view-in-github",
        "colab_type": "text"
      },
      "source": [
        "<a href=\"https://colab.research.google.com/github/freddy-7/TI3002C-2024-/blob/main/Regresi%C3%B3n_Logistica/Anova.ipynb\" target=\"_parent\"><img src=\"https://colab.research.google.com/assets/colab-badge.svg\" alt=\"Open In Colab\"/></a>"
      ]
    },
    {
      "cell_type": "code",
      "execution_count": null,
      "metadata": {
        "id": "-opydCOKwVrH"
      },
      "outputs": [],
      "source": [
        "%pip install statsmodels"
      ]
    },
    {
      "cell_type": "code",
      "source": [
        "#Cargamos librerias\n",
        "import pandas as pd\n",
        "import numpy as np\n",
        "import matplotlib.pyplot as plt\n",
        "import seaborn as sns\n",
        "import statsmodels.api as sm\n",
        "from statsmodels.formula.api import ols\n",
        "from scipy import stats"
      ],
      "metadata": {
        "id": "tvKb9g-awZM5"
      },
      "execution_count": 2,
      "outputs": []
    },
    {
      "cell_type": "code",
      "source": [
        "#Cargar archivo csv desde seaborn\n",
        "df=sns.load_dataset(name='titanic')\n",
        "df.head(20)"
      ],
      "metadata": {
        "id": "hxsASjkBxJj_"
      },
      "execution_count": null,
      "outputs": []
    },
    {
      "cell_type": "code",
      "source": [
        "#Rellenamos nulos\n",
        "df =df.fillna(method=\"bfill\")\n",
        "df =df.fillna(method=\"ffill\")\n",
        "df =df.fillna(method=\"bfill\")"
      ],
      "metadata": {
        "id": "OyVXzOEPxMiM"
      },
      "execution_count": null,
      "outputs": []
    },
    {
      "cell_type": "code",
      "source": [
        "df.boxplot(\"fare\", by= \"sex\")"
      ],
      "metadata": {
        "colab": {
          "base_uri": "https://localhost:8080/",
          "height": 496
        },
        "id": "ymxZ_FflxWuP",
        "outputId": "5fb22822-ce78-493a-89d6-0d96ffec3e66"
      },
      "execution_count": 11,
      "outputs": [
        {
          "output_type": "execute_result",
          "data": {
            "text/plain": [
              "<Axes: title={'center': 'fare'}, xlabel='sex'>"
            ]
          },
          "metadata": {},
          "execution_count": 11
        },
        {
          "output_type": "display_data",
          "data": {
            "text/plain": [
              "<Figure size 640x480 with 1 Axes>"
            ],
            "image/png": "[encoded data removed]"
          },
          "metadata": {}
        }
      ]
    },
    {
      "cell_type": "code",
      "source": [
        "grupos=pd.unique(df['sex'].values)\n",
        "grupos"
      ],
      "metadata": {
        "colab": {
          "base_uri": "https://localhost:8080/"
        },
        "id": "x8e4V3R8x0Wl",
        "outputId": "6b945fca-4688-406e-a662-98fbb25ba899"
      },
      "execution_count": 6,
      "outputs": [
        {
          "output_type": "execute_result",
          "data": {
            "text/plain": [
              "array(['male', 'female'], dtype=object)"
            ]
          },
          "metadata": {},
          "execution_count": 6
        }
      ]
    },
    {
      "cell_type": "markdown",
      "source": [
        "**SCIPY ONEWAY (ANOVA)**"
      ],
      "metadata": {
        "id": "AW4D68_nx96s"
      }
    },
    {
      "cell_type": "code",
      "source": [
        "#Defino grupos donde me entrega la columna Fare separada por grupos de las\n",
        "#categorías de la columna sex: \"male\" y \"female\"\n",
        "Fare_1= df.fare[df.sex=='male']\n",
        "Fare_2= df.fare[df.sex=='female']"
      ],
      "metadata": {
        "id": "UT7cZfgcx5QR"
      },
      "execution_count": 7,
      "outputs": []
    },
    {
      "cell_type": "code",
      "source": [
        "#p-value < 0.05, se rechaza la hipótesis de que todas las medias son iguales\n",
        "#p-value < 0.05, implica que la variable categórica influye en la variable cuantitativa\n",
        "anova= stats.f_oneway(Fare_1, Fare_2)\n",
        "anova"
      ],
      "metadata": {
        "colab": {
          "base_uri": "https://localhost:8080/"
        },
        "id": "zzHif9k5yTHF",
        "outputId": "3aedfec2-4d4e-4ad7-8658-7655b8ada736"
      },
      "execution_count": 8,
      "outputs": [
        {
          "output_type": "execute_result",
          "data": {
            "text/plain": [
              "F_onewayResult(statistic=30.57139211854278, pvalue=4.230867870041279e-08)"
            ]
          },
          "metadata": {},
          "execution_count": 8
        }
      ]
    },
    {
      "cell_type": "markdown",
      "source": [
        "**STATESMODELS (ANOVA)**"
      ],
      "metadata": {
        "id": "AlvDnlunypUz"
      }
    },
    {
      "cell_type": "code",
      "source": [
        "#p-value < 0.05, se rechaza la hipótesis de que todas las medias son iguales\n",
        "# Se puede generar un analisis MANOVA (Múltiples variables categóricas)\n",
        "mod= ols('fare ~ sex + pclass + alive', data=df).fit()\n",
        "anova_table=sm.stats.anova_lm(mod, typ=2)\n",
        "print (anova_table)"
      ],
      "metadata": {
        "colab": {
          "base_uri": "https://localhost:8080/"
        },
        "id": "_h3wfRG_yowR",
        "outputId": "ac64fa65-e6e9-47a0-b4ea-81789a5c607a"
      },
      "execution_count": 10,
      "outputs": [
        {
          "output_type": "stream",
          "name": "stdout",
          "text": [
            "                sum_sq     df           F        PR(>F)\n",
            "sex       1.521074e+04    1.0    8.956761  2.841071e-03\n",
            "alive     8.411782e+02    1.0    0.495323  4.817471e-01\n",
            "pclass    5.403101e+05    1.0  318.158548  4.750439e-61\n",
            "Residual  1.506340e+06  887.0         NaN           NaN\n"
          ]
        }
      ]
    }
  ]
}