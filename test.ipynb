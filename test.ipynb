{
 "cells": [
  {
   "cell_type": "code",
   "execution_count": 1,
   "metadata": {},
   "outputs": [
    {
     "name": "stdout",
     "output_type": "stream",
     "text": [
      "Overwriting app.py\n"
     ]
    }
   ],
   "source": [
    "%%writefile app.py \n",
    "#Creamos el archivo de la APP en el interprete principal (Phyton)\n",
    "\n",
    "#############################IMPLEMENTACIÓN DE DASHBOARD################################\n",
    "\n",
    "#Importamos librerias\n",
    "import streamlit as st\n",
    "import plotly.express as px\n",
    "import pandas as pd\n",
    "import numpy as np\n",
    "from funpymodeling.exploratory import freq_tbl \n",
    "\n",
    "#Definimos la instancia de streamlit\n",
    "#@st.cache_resource\n",
    "\n",
    "\n",
    "    #. 3 Columnas\n",
    "with st.container():\n",
    "    st.header(\"Contenedor superior\")\n",
    "\n",
    "    col1, col2, col3 = st.columns(3)\n",
    "\n",
    "    with col1:\n",
    "        st.write(\"Contenido de la columna 1.\")\n",
    "\n",
    "    with col2:\n",
    "        st.write(\"Contenido de la columna 2.\")\n",
    "        \n",
    "    with col3:\n",
    "        st.write(\"Contenido de la columna 3.\")\n",
    "\n",
    "    #2. Columnas\n",
    "with st.container():\n",
    "    st.header(\"Contenedor inferior\")\n",
    "\n",
    "    col1, col2 = st.columns(2)\n",
    "\n",
    "    with col1:\n",
    "        st.write(\"Contenido de la columna 1.\")\n",
    "\n",
    "    with col2:\n",
    "        st.write(\"Contenido de la columna 2.\")\n",
    "        \n",
    "#1. SECCIÓN SUPERIOR\n",
    "#with st.container():\n",
    "#     st.header(\"Sección superior\")\n",
    "#     st.write(\"Contenido de la sección superior\")\n",
    "#2. SECCIÓN INFERIOR\n",
    "#with st.container():\n",
    "#     st.header(\"Sección Inferior\")\n",
    "#     st.write(\"Contenido de la sección inferior\")\n",
    "     \n",
    "\n",
    "\n"
   ]
  }
 ],
 "metadata": {
  "kernelspec": {
   "display_name": "Python 3",
   "language": "python",
   "name": "python3"
  },
  "language_info": {
   "codemirror_mode": {
    "name": "ipython",
    "version": 3
   },
   "file_extension": ".py",
   "mimetype": "text/x-python",
   "name": "python",
   "nbconvert_exporter": "python",
   "pygments_lexer": "ipython3",
   "version": "3.12.4"
  }
 },
 "nbformat": 4,
 "nbformat_minor": 2
}
